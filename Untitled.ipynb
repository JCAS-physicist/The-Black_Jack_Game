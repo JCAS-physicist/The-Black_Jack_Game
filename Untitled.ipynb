{
 "cells": [
  {
   "cell_type": "code",
   "execution_count": 1,
   "id": "0e9dc5ea",
   "metadata": {},
   "outputs": [
    {
     "name": "stdout",
     "output_type": "stream",
     "text": [
      "Collecting vpython\n",
      "  Downloading vpython-7.6.4-cp39-cp39-macosx_10_15_x86_64.whl (3.6 MB)\n",
      "\u001b[K     |████████████████████████████████| 3.6 MB 1.2 MB/s eta 0:00:01\n",
      "\u001b[?25hRequirement already satisfied: jupyter in /Users/juancarlosas/opt/anaconda3/lib/python3.9/site-packages (from vpython) (1.0.0)\n",
      "Collecting jupyter-server-proxy\n",
      "  Downloading jupyter_server_proxy-3.2.2-py3-none-any.whl (36 kB)\n",
      "Requirement already satisfied: numpy in /Users/juancarlosas/opt/anaconda3/lib/python3.9/site-packages (from vpython) (1.21.5)\n",
      "Collecting autobahn<27,>=22.6.1\n",
      "  Downloading autobahn-22.7.1.tar.gz (476 kB)\n",
      "\u001b[K     |████████████████████████████████| 476 kB 6.0 MB/s eta 0:00:01\n",
      "\u001b[?25hRequirement already satisfied: ipykernel in /Users/juancarlosas/opt/anaconda3/lib/python3.9/site-packages (from vpython) (6.9.1)\n",
      "Collecting txaio>=21.2.1\n",
      "  Downloading txaio-22.2.1-py2.py3-none-any.whl (30 kB)\n",
      "Requirement already satisfied: cryptography>=3.4.6 in /Users/juancarlosas/opt/anaconda3/lib/python3.9/site-packages (from autobahn<27,>=22.6.1->vpython) (3.4.8)\n",
      "Requirement already satisfied: hyperlink>=21.0.0 in /Users/juancarlosas/opt/anaconda3/lib/python3.9/site-packages (from autobahn<27,>=22.6.1->vpython) (21.0.0)\n",
      "Requirement already satisfied: setuptools in /Users/juancarlosas/opt/anaconda3/lib/python3.9/site-packages (from autobahn<27,>=22.6.1->vpython) (61.2.0)\n",
      "Requirement already satisfied: cffi>=1.12 in /Users/juancarlosas/opt/anaconda3/lib/python3.9/site-packages (from cryptography>=3.4.6->autobahn<27,>=22.6.1->vpython) (1.15.0)\n",
      "Requirement already satisfied: pycparser in /Users/juancarlosas/opt/anaconda3/lib/python3.9/site-packages (from cffi>=1.12->cryptography>=3.4.6->autobahn<27,>=22.6.1->vpython) (2.21)\n",
      "Requirement already satisfied: idna>=2.5 in /Users/juancarlosas/opt/anaconda3/lib/python3.9/site-packages (from hyperlink>=21.0.0->autobahn<27,>=22.6.1->vpython) (3.3)\n",
      "Requirement already satisfied: traitlets<6.0,>=5.1.0 in /Users/juancarlosas/opt/anaconda3/lib/python3.9/site-packages (from ipykernel->vpython) (5.1.1)\n",
      "Requirement already satisfied: ipython>=7.23.1 in /Users/juancarlosas/opt/anaconda3/lib/python3.9/site-packages (from ipykernel->vpython) (8.2.0)\n",
      "Requirement already satisfied: matplotlib-inline<0.2.0,>=0.1.0 in /Users/juancarlosas/opt/anaconda3/lib/python3.9/site-packages (from ipykernel->vpython) (0.1.2)\n",
      "Requirement already satisfied: jupyter-client<8.0 in /Users/juancarlosas/opt/anaconda3/lib/python3.9/site-packages (from ipykernel->vpython) (6.1.12)\n",
      "Requirement already satisfied: appnope in /Users/juancarlosas/opt/anaconda3/lib/python3.9/site-packages (from ipykernel->vpython) (0.1.2)\n",
      "Requirement already satisfied: debugpy<2.0,>=1.0.0 in /Users/juancarlosas/opt/anaconda3/lib/python3.9/site-packages (from ipykernel->vpython) (1.5.1)\n",
      "Requirement already satisfied: tornado<7.0,>=4.2 in /Users/juancarlosas/opt/anaconda3/lib/python3.9/site-packages (from ipykernel->vpython) (6.1)\n",
      "Requirement already satisfied: nest-asyncio in /Users/juancarlosas/opt/anaconda3/lib/python3.9/site-packages (from ipykernel->vpython) (1.5.5)\n",
      "Requirement already satisfied: pexpect>4.3 in /Users/juancarlosas/opt/anaconda3/lib/python3.9/site-packages (from ipython>=7.23.1->ipykernel->vpython) (4.8.0)\n",
      "Requirement already satisfied: decorator in /Users/juancarlosas/opt/anaconda3/lib/python3.9/site-packages (from ipython>=7.23.1->ipykernel->vpython) (5.1.1)\n",
      "Requirement already satisfied: pygments>=2.4.0 in /Users/juancarlosas/opt/anaconda3/lib/python3.9/site-packages (from ipython>=7.23.1->ipykernel->vpython) (2.11.2)\n",
      "Requirement already satisfied: jedi>=0.16 in /Users/juancarlosas/opt/anaconda3/lib/python3.9/site-packages (from ipython>=7.23.1->ipykernel->vpython) (0.18.1)\n",
      "Requirement already satisfied: backcall in /Users/juancarlosas/opt/anaconda3/lib/python3.9/site-packages (from ipython>=7.23.1->ipykernel->vpython) (0.2.0)\n",
      "Requirement already satisfied: pickleshare in /Users/juancarlosas/opt/anaconda3/lib/python3.9/site-packages (from ipython>=7.23.1->ipykernel->vpython) (0.7.5)\n",
      "Requirement already satisfied: prompt-toolkit!=3.0.0,!=3.0.1,<3.1.0,>=2.0.0 in /Users/juancarlosas/opt/anaconda3/lib/python3.9/site-packages (from ipython>=7.23.1->ipykernel->vpython) (3.0.20)\n",
      "Requirement already satisfied: stack-data in /Users/juancarlosas/opt/anaconda3/lib/python3.9/site-packages (from ipython>=7.23.1->ipykernel->vpython) (0.2.0)\n",
      "Requirement already satisfied: parso<0.9.0,>=0.8.0 in /Users/juancarlosas/opt/anaconda3/lib/python3.9/site-packages (from jedi>=0.16->ipython>=7.23.1->ipykernel->vpython) (0.8.3)\n",
      "Requirement already satisfied: pyzmq>=13 in /Users/juancarlosas/opt/anaconda3/lib/python3.9/site-packages (from jupyter-client<8.0->ipykernel->vpython) (22.3.0)\n",
      "Requirement already satisfied: jupyter-core>=4.6.0 in /Users/juancarlosas/opt/anaconda3/lib/python3.9/site-packages (from jupyter-client<8.0->ipykernel->vpython) (4.9.2)\n",
      "Requirement already satisfied: python-dateutil>=2.1 in /Users/juancarlosas/opt/anaconda3/lib/python3.9/site-packages (from jupyter-client<8.0->ipykernel->vpython) (2.8.2)\n",
      "Requirement already satisfied: ptyprocess>=0.5 in /Users/juancarlosas/opt/anaconda3/lib/python3.9/site-packages (from pexpect>4.3->ipython>=7.23.1->ipykernel->vpython) (0.7.0)\n",
      "Requirement already satisfied: wcwidth in /Users/juancarlosas/opt/anaconda3/lib/python3.9/site-packages (from prompt-toolkit!=3.0.0,!=3.0.1,<3.1.0,>=2.0.0->ipython>=7.23.1->ipykernel->vpython) (0.2.5)\n",
      "Requirement already satisfied: six>=1.5 in /Users/juancarlosas/opt/anaconda3/lib/python3.9/site-packages (from python-dateutil>=2.1->jupyter-client<8.0->ipykernel->vpython) (1.16.0)\n",
      "Requirement already satisfied: ipywidgets in /Users/juancarlosas/opt/anaconda3/lib/python3.9/site-packages (from jupyter->vpython) (7.6.5)\n",
      "Requirement already satisfied: nbconvert in /Users/juancarlosas/opt/anaconda3/lib/python3.9/site-packages (from jupyter->vpython) (6.4.4)\n",
      "Requirement already satisfied: qtconsole in /Users/juancarlosas/opt/anaconda3/lib/python3.9/site-packages (from jupyter->vpython) (5.3.0)\n",
      "Requirement already satisfied: notebook in /Users/juancarlosas/opt/anaconda3/lib/python3.9/site-packages (from jupyter->vpython) (6.4.8)\n",
      "Requirement already satisfied: jupyter-console in /Users/juancarlosas/opt/anaconda3/lib/python3.9/site-packages (from jupyter->vpython) (6.4.0)\n",
      "Requirement already satisfied: nbformat>=4.2.0 in /Users/juancarlosas/opt/anaconda3/lib/python3.9/site-packages (from ipywidgets->jupyter->vpython) (5.3.0)\n",
      "Requirement already satisfied: widgetsnbextension~=3.5.0 in /Users/juancarlosas/opt/anaconda3/lib/python3.9/site-packages (from ipywidgets->jupyter->vpython) (3.5.2)\n",
      "Requirement already satisfied: ipython-genutils~=0.2.0 in /Users/juancarlosas/opt/anaconda3/lib/python3.9/site-packages (from ipywidgets->jupyter->vpython) (0.2.0)\n",
      "Requirement already satisfied: jupyterlab-widgets>=1.0.0 in /Users/juancarlosas/opt/anaconda3/lib/python3.9/site-packages (from ipywidgets->jupyter->vpython) (1.0.0)\n",
      "Requirement already satisfied: fastjsonschema in /Users/juancarlosas/opt/anaconda3/lib/python3.9/site-packages (from nbformat>=4.2.0->ipywidgets->jupyter->vpython) (2.15.1)\n",
      "Requirement already satisfied: jsonschema>=2.6 in /Users/juancarlosas/opt/anaconda3/lib/python3.9/site-packages (from nbformat>=4.2.0->ipywidgets->jupyter->vpython) (4.4.0)\n",
      "Requirement already satisfied: pyrsistent!=0.17.0,!=0.17.1,!=0.17.2,>=0.14.0 in /Users/juancarlosas/opt/anaconda3/lib/python3.9/site-packages (from jsonschema>=2.6->nbformat>=4.2.0->ipywidgets->jupyter->vpython) (0.18.0)\n",
      "Requirement already satisfied: attrs>=17.4.0 in /Users/juancarlosas/opt/anaconda3/lib/python3.9/site-packages (from jsonschema>=2.6->nbformat>=4.2.0->ipywidgets->jupyter->vpython) (21.4.0)\n",
      "Requirement already satisfied: jinja2 in /Users/juancarlosas/opt/anaconda3/lib/python3.9/site-packages (from notebook->jupyter->vpython) (2.11.3)\n",
      "Requirement already satisfied: argon2-cffi in /Users/juancarlosas/opt/anaconda3/lib/python3.9/site-packages (from notebook->jupyter->vpython) (21.3.0)\n",
      "Requirement already satisfied: Send2Trash>=1.8.0 in /Users/juancarlosas/opt/anaconda3/lib/python3.9/site-packages (from notebook->jupyter->vpython) (1.8.0)\n",
      "Requirement already satisfied: prometheus-client in /Users/juancarlosas/opt/anaconda3/lib/python3.9/site-packages (from notebook->jupyter->vpython) (0.13.1)\n",
      "Requirement already satisfied: terminado>=0.8.3 in /Users/juancarlosas/opt/anaconda3/lib/python3.9/site-packages (from notebook->jupyter->vpython) (0.13.1)\n"
     ]
    },
    {
     "name": "stdout",
     "output_type": "stream",
     "text": [
      "Requirement already satisfied: argon2-cffi-bindings in /Users/juancarlosas/opt/anaconda3/lib/python3.9/site-packages (from argon2-cffi->notebook->jupyter->vpython) (21.2.0)\n",
      "Requirement already satisfied: MarkupSafe>=0.23 in /Users/juancarlosas/opt/anaconda3/lib/python3.9/site-packages (from jinja2->notebook->jupyter->vpython) (2.0.1)\n",
      "Collecting simpervisor>=0.4\n",
      "  Downloading simpervisor-0.4-py3-none-any.whl (5.7 kB)\n",
      "Requirement already satisfied: jupyter-server>=1.0 in /Users/juancarlosas/opt/anaconda3/lib/python3.9/site-packages (from jupyter-server-proxy->vpython) (1.13.5)\n",
      "Requirement already satisfied: aiohttp in /Users/juancarlosas/opt/anaconda3/lib/python3.9/site-packages (from jupyter-server-proxy->vpython) (3.8.1)\n",
      "Requirement already satisfied: packaging in /Users/juancarlosas/opt/anaconda3/lib/python3.9/site-packages (from jupyter-server>=1.0->jupyter-server-proxy->vpython) (21.3)\n",
      "Requirement already satisfied: websocket-client in /Users/juancarlosas/opt/anaconda3/lib/python3.9/site-packages (from jupyter-server>=1.0->jupyter-server-proxy->vpython) (0.58.0)\n",
      "Requirement already satisfied: anyio<4,>=3.1.0 in /Users/juancarlosas/opt/anaconda3/lib/python3.9/site-packages (from jupyter-server>=1.0->jupyter-server-proxy->vpython) (3.5.0)\n",
      "Requirement already satisfied: sniffio>=1.1 in /Users/juancarlosas/opt/anaconda3/lib/python3.9/site-packages (from anyio<4,>=3.1.0->jupyter-server>=1.0->jupyter-server-proxy->vpython) (1.2.0)\n",
      "Requirement already satisfied: multidict<7.0,>=4.5 in /Users/juancarlosas/opt/anaconda3/lib/python3.9/site-packages (from aiohttp->jupyter-server-proxy->vpython) (5.2.0)\n",
      "Requirement already satisfied: async-timeout<5.0,>=4.0.0a3 in /Users/juancarlosas/opt/anaconda3/lib/python3.9/site-packages (from aiohttp->jupyter-server-proxy->vpython) (4.0.1)\n",
      "Requirement already satisfied: aiosignal>=1.1.2 in /Users/juancarlosas/opt/anaconda3/lib/python3.9/site-packages (from aiohttp->jupyter-server-proxy->vpython) (1.2.0)\n",
      "Requirement already satisfied: charset-normalizer<3.0,>=2.0 in /Users/juancarlosas/opt/anaconda3/lib/python3.9/site-packages (from aiohttp->jupyter-server-proxy->vpython) (2.0.4)\n",
      "Requirement already satisfied: frozenlist>=1.1.1 in /Users/juancarlosas/opt/anaconda3/lib/python3.9/site-packages (from aiohttp->jupyter-server-proxy->vpython) (1.2.0)\n",
      "Requirement already satisfied: yarl<2.0,>=1.0 in /Users/juancarlosas/opt/anaconda3/lib/python3.9/site-packages (from aiohttp->jupyter-server-proxy->vpython) (1.6.3)\n",
      "Requirement already satisfied: typing-extensions>=3.6.5 in /Users/juancarlosas/opt/anaconda3/lib/python3.9/site-packages (from async-timeout<5.0,>=4.0.0a3->aiohttp->jupyter-server-proxy->vpython) (4.1.1)\n",
      "Requirement already satisfied: entrypoints>=0.2.2 in /Users/juancarlosas/opt/anaconda3/lib/python3.9/site-packages (from nbconvert->jupyter->vpython) (0.4)\n",
      "Requirement already satisfied: pandocfilters>=1.4.1 in /Users/juancarlosas/opt/anaconda3/lib/python3.9/site-packages (from nbconvert->jupyter->vpython) (1.5.0)\n",
      "Requirement already satisfied: jupyterlab-pygments in /Users/juancarlosas/opt/anaconda3/lib/python3.9/site-packages (from nbconvert->jupyter->vpython) (0.1.2)\n",
      "Requirement already satisfied: nbclient<0.6.0,>=0.5.0 in /Users/juancarlosas/opt/anaconda3/lib/python3.9/site-packages (from nbconvert->jupyter->vpython) (0.5.13)\n",
      "Requirement already satisfied: defusedxml in /Users/juancarlosas/opt/anaconda3/lib/python3.9/site-packages (from nbconvert->jupyter->vpython) (0.7.1)\n",
      "Requirement already satisfied: testpath in /Users/juancarlosas/opt/anaconda3/lib/python3.9/site-packages (from nbconvert->jupyter->vpython) (0.5.0)\n",
      "Requirement already satisfied: beautifulsoup4 in /Users/juancarlosas/opt/anaconda3/lib/python3.9/site-packages (from nbconvert->jupyter->vpython) (4.11.1)\n",
      "Requirement already satisfied: bleach in /Users/juancarlosas/opt/anaconda3/lib/python3.9/site-packages (from nbconvert->jupyter->vpython) (4.1.0)\n",
      "Requirement already satisfied: mistune<2,>=0.8.1 in /Users/juancarlosas/opt/anaconda3/lib/python3.9/site-packages (from nbconvert->jupyter->vpython) (0.8.4)\n",
      "Requirement already satisfied: soupsieve>1.2 in /Users/juancarlosas/opt/anaconda3/lib/python3.9/site-packages (from beautifulsoup4->nbconvert->jupyter->vpython) (2.3.1)\n",
      "Requirement already satisfied: webencodings in /Users/juancarlosas/opt/anaconda3/lib/python3.9/site-packages (from bleach->nbconvert->jupyter->vpython) (0.5.1)\n",
      "Requirement already satisfied: pyparsing!=3.0.5,>=2.0.2 in /Users/juancarlosas/opt/anaconda3/lib/python3.9/site-packages (from packaging->jupyter-server>=1.0->jupyter-server-proxy->vpython) (3.0.4)\n",
      "Requirement already satisfied: qtpy>=2.0.1 in /Users/juancarlosas/opt/anaconda3/lib/python3.9/site-packages (from qtconsole->jupyter->vpython) (2.0.1)\n",
      "Requirement already satisfied: executing in /Users/juancarlosas/opt/anaconda3/lib/python3.9/site-packages (from stack-data->ipython>=7.23.1->ipykernel->vpython) (0.8.3)\n",
      "Requirement already satisfied: pure-eval in /Users/juancarlosas/opt/anaconda3/lib/python3.9/site-packages (from stack-data->ipython>=7.23.1->ipykernel->vpython) (0.2.2)\n",
      "Requirement already satisfied: asttokens in /Users/juancarlosas/opt/anaconda3/lib/python3.9/site-packages (from stack-data->ipython>=7.23.1->ipykernel->vpython) (2.0.5)\n",
      "Building wheels for collected packages: autobahn\n",
      "  Building wheel for autobahn (setup.py) ... \u001b[?25ldone\n",
      "\u001b[?25h  Created wheel for autobahn: filename=autobahn-22.7.1-cp39-cp39-macosx_10_9_x86_64.whl size=672889 sha256=a92d43c55cf8da178fef9f262785bd43a8c1cf8de987da95c2667d0edaa9eaba\n",
      "  Stored in directory: /Users/juancarlosas/Library/Caches/pip/wheels/82/27/54/7239425447126aa1864a562f3d3f9f19ed1be5530a48fe7e39\n",
      "Successfully built autobahn\n",
      "Installing collected packages: txaio, simpervisor, jupyter-server-proxy, autobahn, vpython\n",
      "Successfully installed autobahn-22.7.1 jupyter-server-proxy-3.2.2 simpervisor-0.4 txaio-22.2.1 vpython-7.6.4\n",
      "Note: you may need to restart the kernel to use updated packages.\n"
     ]
    }
   ],
   "source": [
    "pip install vpython"
   ]
  },
  {
   "cell_type": "code",
   "execution_count": 3,
   "id": "336eee0d",
   "metadata": {},
   "outputs": [
    {
     "name": "stdout",
     "output_type": "stream",
     "text": [
      "Collecting tk\n",
      "  Downloading tk-0.1.0-py3-none-any.whl (3.9 kB)\n",
      "Installing collected packages: tk\n",
      "Successfully installed tk-0.1.0\n",
      "Note: you may need to restart the kernel to use updated packages.\n"
     ]
    }
   ],
   "source": [
    "pip install tk"
   ]
  },
  {
   "cell_type": "code",
   "execution_count": null,
   "id": "0f6e4f38",
   "metadata": {},
   "outputs": [],
   "source": []
  }
 ],
 "metadata": {
  "kernelspec": {
   "display_name": "Python 3 (ipykernel)",
   "language": "python",
   "name": "python3"
  },
  "language_info": {
   "codemirror_mode": {
    "name": "ipython",
    "version": 3
   },
   "file_extension": ".py",
   "mimetype": "text/x-python",
   "name": "python",
   "nbconvert_exporter": "python",
   "pygments_lexer": "ipython3",
   "version": "3.9.12"
  }
 },
 "nbformat": 4,
 "nbformat_minor": 5
}
